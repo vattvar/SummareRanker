{
 "cells": [
  {
   "cell_type": "code",
   "execution_count": 2,
   "metadata": {},
   "outputs": [
    {
     "data": {
      "text/html": [
       "<div>\n",
       "<style scoped>\n",
       "    .dataframe tbody tr th:only-of-type {\n",
       "        vertical-align: middle;\n",
       "    }\n",
       "\n",
       "    .dataframe tbody tr th {\n",
       "        vertical-align: top;\n",
       "    }\n",
       "\n",
       "    .dataframe thead th {\n",
       "        text-align: right;\n",
       "    }\n",
       "</style>\n",
       "<table border=\"1\" class=\"dataframe\">\n",
       "  <thead>\n",
       "    <tr style=\"text-align: right;\">\n",
       "      <th></th>\n",
       "      <th>0</th>\n",
       "      <th>1</th>\n",
       "      <th>2</th>\n",
       "    </tr>\n",
       "  </thead>\n",
       "  <tbody>\n",
       "    <tr>\n",
       "      <th>0</th>\n",
       "      <td>The full cost of damage in Newton Stewart, one...</td>\n",
       "      <td>The clean-up operation is continuing in parts ...</td>\n",
       "      <td>Clean-up operations are continuing across the ...</td>\n",
       "    </tr>\n",
       "    <tr>\n",
       "      <th>1</th>\n",
       "      <td>A fire alarm went off at the Holiday Inn in Ho...</td>\n",
       "      <td>Two tourist buses have been destroyed in a sus...</td>\n",
       "      <td>Two tourist buses have been destroyed by fire ...</td>\n",
       "    </tr>\n",
       "    <tr>\n",
       "      <th>2</th>\n",
       "      <td>Ferrari appeared in a position to challenge un...</td>\n",
       "      <td>Lewis Hamilton beat Mercedes team-mate Nico Ro...</td>\n",
       "      <td>Lewis Hamilton stormed to pole position at the...</td>\n",
       "    </tr>\n",
       "    <tr>\n",
       "      <th>3</th>\n",
       "      <td>John Edward Bates, formerly of Spalding, Linco...</td>\n",
       "      <td>A former Lincolnshire Police officer has gone ...</td>\n",
       "      <td>A former Lincolnshire Police officer carried o...</td>\n",
       "    </tr>\n",
       "    <tr>\n",
       "      <th>4</th>\n",
       "      <td>Patients and staff were evacuated from Cerahpa...</td>\n",
       "      <td>Turkish police have ended a siege at a psychia...</td>\n",
       "      <td>An armed man who locked himself into a room at...</td>\n",
       "    </tr>\n",
       "  </tbody>\n",
       "</table>\n",
       "</div>"
      ],
      "text/plain": [
       "                                                   0  \\\n",
       "0  The full cost of damage in Newton Stewart, one...   \n",
       "1  A fire alarm went off at the Holiday Inn in Ho...   \n",
       "2  Ferrari appeared in a position to challenge un...   \n",
       "3  John Edward Bates, formerly of Spalding, Linco...   \n",
       "4  Patients and staff were evacuated from Cerahpa...   \n",
       "\n",
       "                                                   1  \\\n",
       "0  The clean-up operation is continuing in parts ...   \n",
       "1  Two tourist buses have been destroyed in a sus...   \n",
       "2  Lewis Hamilton beat Mercedes team-mate Nico Ro...   \n",
       "3  A former Lincolnshire Police officer has gone ...   \n",
       "4  Turkish police have ended a siege at a psychia...   \n",
       "\n",
       "                                                   2  \n",
       "0  Clean-up operations are continuing across the ...  \n",
       "1  Two tourist buses have been destroyed by fire ...  \n",
       "2  Lewis Hamilton stormed to pole position at the...  \n",
       "3  A former Lincolnshire Police officer carried o...  \n",
       "4  An armed man who locked himself into a room at...  "
      ]
     },
     "execution_count": 2,
     "metadata": {},
     "output_type": "execute_result"
    }
   ],
   "source": [
    "import pandas as pd\n",
    "df = pd.read_csv(\"candidates_1.csv\",header=None)\n",
    "df.head()\n"
   ]
  },
  {
   "cell_type": "code",
   "execution_count": 3,
   "metadata": {},
   "outputs": [
    {
     "data": {
      "text/plain": [
       "'Lewis Hamilton beat Mercedes team-mate Nico Rosberg to pole position at the Bahrain Grand Prix.|Lewis Hamilton pipped Mercedes team-mate Nico Rosberg to pole position at the Bahrain Grand Prix.|Lewis Hamilton beat team-mate Nico Rosberg to pole position at the Bahrain Grand Prix.|Lewis Hamilton pipped team-mate Nico Rosberg to pole position at the Bahrain Grand Prix.|Lewis Hamilton beat Mercedes team-mate Nico Rosberg to pole position for the Bahrain Grand Prix.'"
      ]
     },
     "execution_count": 3,
     "metadata": {},
     "output_type": "execute_result"
    }
   ],
   "source": [
    "df[df.columns[1]][2]"
   ]
  },
  {
   "cell_type": "code",
   "execution_count": 4,
   "metadata": {},
   "outputs": [
    {
     "name": "stderr",
     "output_type": "stream",
     "text": [
      "/opt/conda/lib/python3.8/site-packages/tqdm/auto.py:22: TqdmWarning: IProgress not found. Please update jupyter and ipywidgets. See https://ipywidgets.readthedocs.io/en/stable/user_install.html\n",
      "  from .autonotebook import tqdm as notebook_tqdm\n"
     ]
    }
   ],
   "source": [
    "# pip install torchmetrics\n",
    "from torchmetrics.text.rouge import ROUGEScore\n",
    "from torchmetrics.text.bert import BERTScore\n",
    "\n",
    "\n",
    "import numpy as np\n",
    "\n",
    "def eval_Scores_Candidates(val_texts, val_summaries, val_labels):\n",
    "    print(\"\\n\", \"*\"*10, \"1 - evaluation with\", \"*\"*10)\n",
    "    rogue_scorer = ROUGEScore()\n",
    "    bert_scorer = BERTScore()\n",
    "\n",
    "    all_r1s = []\n",
    "    all_r2s = []\n",
    "    all_rls = []\n",
    "    all_BERTs = []\n",
    "    for i in range(len(val_summaries)):\n",
    "        summaries = val_summaries[i].split(\"|\")\n",
    "        # print(summaries)\n",
    "        label = val_labels[i]\n",
    "        rscores = [rogue_scorer(summary, label) for summary in summaries]\n",
    "        # bscores = bert_scorer(summary, label)\n",
    "\n",
    "        all_r1s.append([rscore[\"rouge1_fmeasure\"].item() for rscore in rscores])\n",
    "        all_r2s.append([rscore[\"rouge1_fmeasure\"].item() for rscore in rscores])\n",
    "        all_rls.append([rscore[\"rougeL_fmeasure\"].item() for rscore in rscores])\n",
    "        # all_BERTs.append(bscores[\"f1\"])\n",
    "\n",
    "    # all_r1s = 100 * np.array(all_r1s)\n",
    "    # all_r2s = 100 * np.array(all_r2s)\n",
    "    # all_rls = 100 * np.array(all_rls)\n",
    "    # mean_r1 = np.mean(all_r1s)\n",
    "    # mean_r2 = np.mean(all_r2s)\n",
    "    # mean_rl = np.mean(all_rls)\n",
    "    # mean_r = (mean_r1 + mean_r2 + mean_rl) / 3\n",
    "    # print(\"Mean R: {:.4f}, R-1: {:.4f} (var: {:.4f}), R-2: {:.4f} (var: {:.4f}), R-L: {:.4f} (var: {:.4f})\".format(\n",
    "    #     mean_r, mean_r1, np.std(all_r1s), mean_r2, np.std(all_r2s), mean_rl, np.std(all_rls)))\n",
    "\n",
    "    return all_r1s, all_r2s, all_rls"
   ]
  },
  {
   "cell_type": "code",
   "execution_count": 5,
   "metadata": {},
   "outputs": [
    {
     "name": "stdout",
     "output_type": "stream",
     "text": [
      "\n",
      " ********** 1 - evaluation with **********\n"
     ]
    },
    {
     "name": "stderr",
     "output_type": "stream",
     "text": [
      "/home/vv2116/.local/lib/python3.8/site-packages/torchmetrics/text/bert.py:163: UserWarning: The argument `model_name_or_path` was not specified while it is required when the default `transformers` model is used. It will use the default recommended model - 'roberta-large'.\n",
      "  warn(\n"
     ]
    }
   ],
   "source": [
    "# %%capture --no-stderr\n",
    "import os\n",
    "os.environ[\"TOKENIZERS_PARALLELISM\"] = \"false\"\n",
    "r1s,r2s,rls = eval_Scores_Candidates(df[df.columns[0]],df[df.columns[1]],df[df.columns[2]])"
   ]
  },
  {
   "cell_type": "code",
   "execution_count": 6,
   "metadata": {},
   "outputs": [
    {
     "data": {
      "text/plain": [
       "[0.5945945978164673,\n",
       " 0.523809552192688,\n",
       " 0.699999988079071,\n",
       " 0.5365853905677795,\n",
       " 0.75]"
      ]
     },
     "execution_count": 6,
     "metadata": {},
     "output_type": "execute_result"
    }
   ],
   "source": [
    "r1s[0]"
   ]
  },
  {
   "cell_type": "code",
   "execution_count": 7,
   "metadata": {},
   "outputs": [],
   "source": [
    "df[\"r1\"] = pd.Series(r1s)\n",
    "df[\"r2\"] = pd.Series(r2s)\n",
    "df[\"rl\"] = pd.Series(rls)\n",
    "df.to_csv(\"candidate_scores_1.csv\",index=False)"
   ]
  },
  {
   "cell_type": "code",
   "execution_count": 8,
   "metadata": {},
   "outputs": [
    {
     "data": {
      "text/html": [
       "<div>\n",
       "<style scoped>\n",
       "    .dataframe tbody tr th:only-of-type {\n",
       "        vertical-align: middle;\n",
       "    }\n",
       "\n",
       "    .dataframe tbody tr th {\n",
       "        vertical-align: top;\n",
       "    }\n",
       "\n",
       "    .dataframe thead th {\n",
       "        text-align: right;\n",
       "    }\n",
       "</style>\n",
       "<table border=\"1\" class=\"dataframe\">\n",
       "  <thead>\n",
       "    <tr style=\"text-align: right;\">\n",
       "      <th></th>\n",
       "      <th>0</th>\n",
       "      <th>1</th>\n",
       "      <th>2</th>\n",
       "      <th>r1</th>\n",
       "      <th>r2</th>\n",
       "      <th>rl</th>\n",
       "    </tr>\n",
       "  </thead>\n",
       "  <tbody>\n",
       "    <tr>\n",
       "      <th>0</th>\n",
       "      <td>The full cost of damage in Newton Stewart, one...</td>\n",
       "      <td>The clean-up operation is continuing in parts ...</td>\n",
       "      <td>Clean-up operations are continuing across the ...</td>\n",
       "      <td>[0.5945945978164673, 0.523809552192688, 0.6999...</td>\n",
       "      <td>[0.5945945978164673, 0.523809552192688, 0.6999...</td>\n",
       "      <td>[0.4324324429035187, 0.3333333432674408, 0.550...</td>\n",
       "    </tr>\n",
       "    <tr>\n",
       "      <th>1</th>\n",
       "      <td>A fire alarm went off at the Holiday Inn in Ho...</td>\n",
       "      <td>Two tourist buses have been destroyed in a sus...</td>\n",
       "      <td>Two tourist buses have been destroyed by fire ...</td>\n",
       "      <td>[0.800000011920929, 0.9375, 0.8666666746139526...</td>\n",
       "      <td>[0.800000011920929, 0.9375, 0.8666666746139526...</td>\n",
       "      <td>[0.800000011920929, 0.9375, 0.8666666746139526...</td>\n",
       "    </tr>\n",
       "    <tr>\n",
       "      <th>2</th>\n",
       "      <td>Ferrari appeared in a position to challenge un...</td>\n",
       "      <td>Lewis Hamilton beat Mercedes team-mate Nico Ro...</td>\n",
       "      <td>Lewis Hamilton stormed to pole position at the...</td>\n",
       "      <td>[0.8823529481887817, 0.8823529481887817, 0.848...</td>\n",
       "      <td>[0.8823529481887817, 0.8823529481887817, 0.848...</td>\n",
       "      <td>[0.5882353186607361, 0.5882353186607361, 0.606...</td>\n",
       "    </tr>\n",
       "    <tr>\n",
       "      <th>3</th>\n",
       "      <td>John Edward Bates, formerly of Spalding, Linco...</td>\n",
       "      <td>A former Lincolnshire Police officer has gone ...</td>\n",
       "      <td>A former Lincolnshire Police officer carried o...</td>\n",
       "      <td>[0.39024388790130615, 0.4324324429035187, 0.38...</td>\n",
       "      <td>[0.39024388790130615, 0.4324324429035187, 0.38...</td>\n",
       "      <td>[0.3414634168148041, 0.37837839126586914, 0.33...</td>\n",
       "    </tr>\n",
       "    <tr>\n",
       "      <th>4</th>\n",
       "      <td>Patients and staff were evacuated from Cerahpa...</td>\n",
       "      <td>Turkish police have ended a siege at a psychia...</td>\n",
       "      <td>An armed man who locked himself into a room at...</td>\n",
       "      <td>[0.4864864945411682, 0.5714285969734192, 0.565...</td>\n",
       "      <td>[0.4864864945411682, 0.5714285969734192, 0.565...</td>\n",
       "      <td>[0.37837839126586914, 0.523809552192688, 0.478...</td>\n",
       "    </tr>\n",
       "  </tbody>\n",
       "</table>\n",
       "</div>"
      ],
      "text/plain": [
       "                                                   0  \\\n",
       "0  The full cost of damage in Newton Stewart, one...   \n",
       "1  A fire alarm went off at the Holiday Inn in Ho...   \n",
       "2  Ferrari appeared in a position to challenge un...   \n",
       "3  John Edward Bates, formerly of Spalding, Linco...   \n",
       "4  Patients and staff were evacuated from Cerahpa...   \n",
       "\n",
       "                                                   1  \\\n",
       "0  The clean-up operation is continuing in parts ...   \n",
       "1  Two tourist buses have been destroyed in a sus...   \n",
       "2  Lewis Hamilton beat Mercedes team-mate Nico Ro...   \n",
       "3  A former Lincolnshire Police officer has gone ...   \n",
       "4  Turkish police have ended a siege at a psychia...   \n",
       "\n",
       "                                                   2  \\\n",
       "0  Clean-up operations are continuing across the ...   \n",
       "1  Two tourist buses have been destroyed by fire ...   \n",
       "2  Lewis Hamilton stormed to pole position at the...   \n",
       "3  A former Lincolnshire Police officer carried o...   \n",
       "4  An armed man who locked himself into a room at...   \n",
       "\n",
       "                                                  r1  \\\n",
       "0  [0.5945945978164673, 0.523809552192688, 0.6999...   \n",
       "1  [0.800000011920929, 0.9375, 0.8666666746139526...   \n",
       "2  [0.8823529481887817, 0.8823529481887817, 0.848...   \n",
       "3  [0.39024388790130615, 0.4324324429035187, 0.38...   \n",
       "4  [0.4864864945411682, 0.5714285969734192, 0.565...   \n",
       "\n",
       "                                                  r2  \\\n",
       "0  [0.5945945978164673, 0.523809552192688, 0.6999...   \n",
       "1  [0.800000011920929, 0.9375, 0.8666666746139526...   \n",
       "2  [0.8823529481887817, 0.8823529481887817, 0.848...   \n",
       "3  [0.39024388790130615, 0.4324324429035187, 0.38...   \n",
       "4  [0.4864864945411682, 0.5714285969734192, 0.565...   \n",
       "\n",
       "                                                  rl  \n",
       "0  [0.4324324429035187, 0.3333333432674408, 0.550...  \n",
       "1  [0.800000011920929, 0.9375, 0.8666666746139526...  \n",
       "2  [0.5882353186607361, 0.5882353186607361, 0.606...  \n",
       "3  [0.3414634168148041, 0.37837839126586914, 0.33...  \n",
       "4  [0.37837839126586914, 0.523809552192688, 0.478...  "
      ]
     },
     "execution_count": 8,
     "metadata": {},
     "output_type": "execute_result"
    }
   ],
   "source": [
    "df = pd.read_csv(\"candidate_scores_1.csv\")\n",
    "df.head()"
   ]
  },
  {
   "cell_type": "code",
   "execution_count": null,
   "metadata": {},
   "outputs": [
    {
     "data": {
      "text/plain": [
       "6"
      ]
     },
     "execution_count": 26,
     "metadata": {},
     "output_type": "execute_result"
    }
   ],
   "source": [
    "x = df[df.columns[2]][1]\n",
    "len(x.split(\"\\\",\"))"
   ]
  },
  {
   "cell_type": "code",
   "execution_count": null,
   "metadata": {},
   "outputs": [
    {
     "data": {
      "text/plain": [
       "'[\"China\\'s economy grew 7.4% in the first quarter of the year, beating expectations.\", \"China\\'s economy grew 7.4% in the first quarter of the year from a year earlier, beating expectations.\", \"China\\'s economy grew 7.4% in the first quarter of the year from a year earlier, slightly better than expected.\", \"China\\'s economy grew 7.4% in the first quarter of the year from a year earlier, official figures show.\", \"China\\'s economy grew 7.4% in the first quarter of the year from a year earlier, official figures show, beating expectations.\", \\'Monks at St Magnus Abbey in Moray have said they will fight any plans to build a new road close to their site.\\', \\'Monks at St Magnus Abbey in Moray have said they are concerned about the possible route of a new road.\\', \\'Monks at St Magnus Abbey in Moray have said they will fight any plans to build a new road close to their property.\\', \\'Monks at St Magnus Abbey in Moray have said they are concerned about the possible route of a major road project.\\', \\'Monks at St Magnus Abbey in Moray have said they will fight any plans to build a new dual carriageway close to their site.\\']'"
      ]
     },
     "execution_count": 23,
     "metadata": {},
     "output_type": "execute_result"
    }
   ],
   "source": [
    "x"
   ]
  },
  {
   "cell_type": "code",
   "execution_count": null,
   "metadata": {},
   "outputs": [
    {
     "data": {
      "text/plain": [
       "['\"China\\'s economy grew 7.4% in the first quarter of the year, beating expectations.\"',\n",
       " '\"China\\'s economy grew 7.4% in the first quarter of the year from a year earlier, beating expectations.\"',\n",
       " '\"China\\'s economy grew 7.4% in the first quarter of the year from a year earlier, slightly better than expected.\"',\n",
       " '\"China\\'s economy grew 7.4% in the first quarter of the year from a year earlier, official figures show.\"',\n",
       " '\"China\\'s economy grew 7.4% in the first quarter of the year from a year earlier, official figures show, beating expectations.\"',\n",
       " '\\'Monks at St Magnus Abbey in Moray have said they will fight any plans to build a new road close to their site.\\', \\'Monks at St Magnus Abbey in Moray have said they are concerned about the possible route of a new road.\\', \\'Monks at St Magnus Abbey in Moray have said they will fight any plans to build a new road close to their property.\\', \\'Monks at St Magnus Abbey in Moray have said they are concerned about the possible route of a major road project.\\', \\'Monks at St Magnus Abbey in Moray have said they will fight any plans to build a new dual carriageway close to their site.\\'\"']"
      ]
     },
     "execution_count": 44,
     "metadata": {},
     "output_type": "execute_result"
    }
   ],
   "source": [
    "[item[1:]+\"\\\"\" for item in x[:-1].split(\"\\\",\")]\n"
   ]
  },
  {
   "cell_type": "code",
   "execution_count": null,
   "metadata": {},
   "outputs": [
    {
     "data": {
      "text/plain": [
       "'\\'[\"China\\\\\\'s economy grew 7.4% in the first quarter of the year, beating expectations.\", \"China\\\\\\'s economy grew 7.4% in the first quarter of the year from a year earlier, beating expectations.\", \"China\\\\\\'s economy grew 7.4% in the first quarter of the year from a year earlier, slightly better than expected.\", \"China\\\\\\'s economy grew 7.4% in the first quarter of the year from a year earlier, official figures show.\", \"China\\\\\\'s economy grew 7.4% in the first quarter of the year from a year earlier, official figures show, beating expectations.\", \\\\\\'Monks at St Magnus Abbey in Moray have said they will fight any plans to build a new road close to their site.\\\\\\', \\\\\\'Monks at St Magnus Abbey in Moray have said they are concerned about the possible route of a new road.\\\\\\', \\\\\\'Monks at St Magnus Abbey in Moray have said they will fight any plans to build a new road close to their property.\\\\\\', \\\\\\'Monks at St Magnus Abbey in Moray have said they are concerned about the possible route of a major road project.\\\\\\', \\\\\\'Monks at St Magnus Abbey in Moray have said they will fight any plans to build a new dual carriageway close to their site.\\\\\\']\\''"
      ]
     },
     "execution_count": 37,
     "metadata": {},
     "output_type": "execute_result"
    }
   ],
   "source": [
    "repr(x)"
   ]
  },
  {
   "cell_type": "code",
   "execution_count": null,
   "metadata": {},
   "outputs": [],
   "source": []
  }
 ],
 "metadata": {
  "kernelspec": {
   "display_name": "Python 3.8.13 ('base')",
   "language": "python",
   "name": "python3"
  },
  "language_info": {
   "codemirror_mode": {
    "name": "ipython",
    "version": 3
   },
   "file_extension": ".py",
   "mimetype": "text/x-python",
   "name": "python",
   "nbconvert_exporter": "python",
   "pygments_lexer": "ipython3",
   "version": "3.8.13"
  },
  "orig_nbformat": 4,
  "vscode": {
   "interpreter": {
    "hash": "d4d1e4263499bec80672ea0156c357c1ee493ec2b1c70f0acce89fc37c4a6abe"
   }
  }
 },
 "nbformat": 4,
 "nbformat_minor": 2
}
