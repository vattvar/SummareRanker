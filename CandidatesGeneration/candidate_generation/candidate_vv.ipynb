{
 "cells": [
  {
   "cell_type": "code",
   "execution_count": 1,
   "metadata": {},
   "outputs": [
    {
     "name": "stderr",
     "output_type": "stream",
     "text": [
      "/opt/conda/lib/python3.8/site-packages/tqdm/auto.py:22: TqdmWarning: IProgress not found. Please update jupyter and ipywidgets. See https://ipywidgets.readthedocs.io/en/stable/user_install.html\n",
      "  from .autonotebook import tqdm as notebook_tqdm\n"
     ]
    }
   ],
   "source": [
    "import torch, gc\n",
    "gc.collect()\n",
    "torch.cuda.empty_cache()"
   ]
  },
  {
   "cell_type": "code",
   "execution_count": 2,
   "metadata": {},
   "outputs": [],
   "source": [
    "import torch"
   ]
  },
  {
   "cell_type": "code",
   "execution_count": 3,
   "metadata": {},
   "outputs": [
    {
     "name": "stderr",
     "output_type": "stream",
     "text": [
      "Found cached dataset xsum (/home/vv2116/.cache/huggingface/datasets/xsum/default/1.2.0/32c23220eadddb1149b16ed2e9430a05293768cfffbdfd151058697d4c11f934)\n",
      "100%|██████████| 3/3 [00:00<00:00, 489.84it/s]\n"
     ]
    }
   ],
   "source": [
    "from datasets import load_dataset\n",
    "from datasets import get_dataset_split_names\n",
    "xsum_dataset = load_dataset(\"xsum\")"
   ]
  },
  {
   "cell_type": "code",
   "execution_count": 4,
   "metadata": {},
   "outputs": [
    {
     "data": {
      "text/plain": [
       "DatasetDict({\n",
       "    train: Dataset({\n",
       "        features: ['document', 'summary', 'id'],\n",
       "        num_rows: 204045\n",
       "    })\n",
       "    validation: Dataset({\n",
       "        features: ['document', 'summary', 'id'],\n",
       "        num_rows: 11332\n",
       "    })\n",
       "    test: Dataset({\n",
       "        features: ['document', 'summary', 'id'],\n",
       "        num_rows: 11334\n",
       "    })\n",
       "})"
      ]
     },
     "execution_count": 4,
     "metadata": {},
     "output_type": "execute_result"
    }
   ],
   "source": [
    "xsum_dataset"
   ]
  },
  {
   "cell_type": "code",
   "execution_count": 5,
   "metadata": {},
   "outputs": [
    {
     "ename": "KeyboardInterrupt",
     "evalue": "",
     "output_type": "error",
     "traceback": [
      "\u001b[0;31m---------------------------------------------------------------------------\u001b[0m",
      "\u001b[0;31mKeyboardInterrupt\u001b[0m                         Traceback (most recent call last)",
      "\u001b[1;32m/home/vv2116/1006/cds-bootcamp/homework/nlp/NLP_Final/SummaReranker/src/candidate_generation/candidate_vv.ipynb Cell 5\u001b[0m in \u001b[0;36m<cell line: 5>\u001b[0;34m()\u001b[0m\n\u001b[1;32m      <a href='vscode-notebook-cell://ssh-remote%2Bburstcontainer/home/vv2116/1006/cds-bootcamp/homework/nlp/NLP_Final/SummaReranker/src/candidate_generation/candidate_vv.ipynb#W4sdnNjb2RlLXJlbW90ZQ%3D%3D?line=1'>2</a>\u001b[0m \u001b[39mfrom\u001b[39;00m \u001b[39mtransformers\u001b[39;00m \u001b[39mimport\u001b[39;00m PegasusForConditionalGeneration,PegasusTokenizer\n\u001b[1;32m      <a href='vscode-notebook-cell://ssh-remote%2Bburstcontainer/home/vv2116/1006/cds-bootcamp/homework/nlp/NLP_Final/SummaReranker/src/candidate_generation/candidate_vv.ipynb#W4sdnNjb2RlLXJlbW90ZQ%3D%3D?line=2'>3</a>\u001b[0m tokenizer \u001b[39m=\u001b[39m PegasusTokenizer\u001b[39m.\u001b[39mfrom_pretrained(\u001b[39m\"\u001b[39m\u001b[39mgoogle/pegasus-xsum\u001b[39m\u001b[39m\"\u001b[39m)\n\u001b[0;32m----> <a href='vscode-notebook-cell://ssh-remote%2Bburstcontainer/home/vv2116/1006/cds-bootcamp/homework/nlp/NLP_Final/SummaReranker/src/candidate_generation/candidate_vv.ipynb#W4sdnNjb2RlLXJlbW90ZQ%3D%3D?line=4'>5</a>\u001b[0m base_model \u001b[39m=\u001b[39m PegasusForConditionalGeneration\u001b[39m.\u001b[39;49mfrom_pretrained(\u001b[39m\"\u001b[39;49m\u001b[39mgoogle/pegasus-xsum\u001b[39;49m\u001b[39m\"\u001b[39;49m)\n",
      "File \u001b[0;32m~/.local/lib/python3.8/site-packages/transformers/modeling_utils.py:2230\u001b[0m, in \u001b[0;36mPreTrainedModel.from_pretrained\u001b[0;34m(cls, pretrained_model_name_or_path, *model_args, **kwargs)\u001b[0m\n\u001b[1;32m   2227\u001b[0m     init_contexts\u001b[39m.\u001b[39mappend(init_empty_weights())\n\u001b[1;32m   2229\u001b[0m \u001b[39mwith\u001b[39;00m ContextManagers(init_contexts):\n\u001b[0;32m-> 2230\u001b[0m     model \u001b[39m=\u001b[39m \u001b[39mcls\u001b[39;49m(config, \u001b[39m*\u001b[39;49mmodel_args, \u001b[39m*\u001b[39;49m\u001b[39m*\u001b[39;49mmodel_kwargs)\n\u001b[1;32m   2232\u001b[0m \u001b[39mif\u001b[39;00m load_in_8bit:\n\u001b[1;32m   2233\u001b[0m     \u001b[39mfrom\u001b[39;00m \u001b[39m.\u001b[39;00m\u001b[39mutils\u001b[39;00m\u001b[39m.\u001b[39;00m\u001b[39mbitsandbytes\u001b[39;00m \u001b[39mimport\u001b[39;00m get_keys_to_not_convert, replace_8bit_linear\n",
      "File \u001b[0;32m~/.local/lib/python3.8/site-packages/transformers/models/pegasus/modeling_pegasus.py:1303\u001b[0m, in \u001b[0;36mPegasusForConditionalGeneration.__init__\u001b[0;34m(self, config)\u001b[0m\n\u001b[1;32m   1301\u001b[0m \u001b[39mdef\u001b[39;00m \u001b[39m__init__\u001b[39m(\u001b[39mself\u001b[39m, config: PegasusConfig):\n\u001b[1;32m   1302\u001b[0m     \u001b[39msuper\u001b[39m()\u001b[39m.\u001b[39m\u001b[39m__init__\u001b[39m(config)\n\u001b[0;32m-> 1303\u001b[0m     \u001b[39mself\u001b[39m\u001b[39m.\u001b[39mmodel \u001b[39m=\u001b[39m PegasusModel(config)\n\u001b[1;32m   1304\u001b[0m     \u001b[39mself\u001b[39m\u001b[39m.\u001b[39mregister_buffer(\u001b[39m\"\u001b[39m\u001b[39mfinal_logits_bias\u001b[39m\u001b[39m\"\u001b[39m, torch\u001b[39m.\u001b[39mzeros((\u001b[39m1\u001b[39m, \u001b[39mself\u001b[39m\u001b[39m.\u001b[39mmodel\u001b[39m.\u001b[39mshared\u001b[39m.\u001b[39mnum_embeddings)))\n\u001b[1;32m   1305\u001b[0m     \u001b[39mself\u001b[39m\u001b[39m.\u001b[39mlm_head \u001b[39m=\u001b[39m nn\u001b[39m.\u001b[39mLinear(config\u001b[39m.\u001b[39md_model, \u001b[39mself\u001b[39m\u001b[39m.\u001b[39mmodel\u001b[39m.\u001b[39mshared\u001b[39m.\u001b[39mnum_embeddings, bias\u001b[39m=\u001b[39m\u001b[39mFalse\u001b[39;00m)\n",
      "File \u001b[0;32m~/.local/lib/python3.8/site-packages/transformers/models/pegasus/modeling_pegasus.py:1149\u001b[0m, in \u001b[0;36mPegasusModel.__init__\u001b[0;34m(self, config)\u001b[0m\n\u001b[1;32m   1146\u001b[0m padding_idx, vocab_size \u001b[39m=\u001b[39m config\u001b[39m.\u001b[39mpad_token_id, config\u001b[39m.\u001b[39mvocab_size\n\u001b[1;32m   1147\u001b[0m \u001b[39mself\u001b[39m\u001b[39m.\u001b[39mshared \u001b[39m=\u001b[39m nn\u001b[39m.\u001b[39mEmbedding(vocab_size, config\u001b[39m.\u001b[39md_model, padding_idx)\n\u001b[0;32m-> 1149\u001b[0m \u001b[39mself\u001b[39m\u001b[39m.\u001b[39mencoder \u001b[39m=\u001b[39m PegasusEncoder(config, \u001b[39mself\u001b[39;49m\u001b[39m.\u001b[39;49mshared)\n\u001b[1;32m   1150\u001b[0m \u001b[39mself\u001b[39m\u001b[39m.\u001b[39mdecoder \u001b[39m=\u001b[39m PegasusDecoder(config, \u001b[39mself\u001b[39m\u001b[39m.\u001b[39mshared)\n\u001b[1;32m   1152\u001b[0m \u001b[39m# Initialize weights and apply final processing\u001b[39;00m\n",
      "File \u001b[0;32m~/.local/lib/python3.8/site-packages/transformers/models/pegasus/modeling_pegasus.py:656\u001b[0m, in \u001b[0;36mPegasusEncoder.__init__\u001b[0;34m(self, config, embed_tokens)\u001b[0m\n\u001b[1;32m    653\u001b[0m \u001b[39melse\u001b[39;00m:\n\u001b[1;32m    654\u001b[0m     \u001b[39mself\u001b[39m\u001b[39m.\u001b[39membed_tokens \u001b[39m=\u001b[39m nn\u001b[39m.\u001b[39mEmbedding(config\u001b[39m.\u001b[39mvocab_size, embed_dim, \u001b[39mself\u001b[39m\u001b[39m.\u001b[39mpadding_idx)\n\u001b[0;32m--> 656\u001b[0m \u001b[39mself\u001b[39m\u001b[39m.\u001b[39membed_positions \u001b[39m=\u001b[39m PegasusSinusoidalPositionalEmbedding(\n\u001b[1;32m    657\u001b[0m     config\u001b[39m.\u001b[39;49mmax_position_embeddings,\n\u001b[1;32m    658\u001b[0m     embed_dim,\n\u001b[1;32m    659\u001b[0m     \u001b[39mself\u001b[39;49m\u001b[39m.\u001b[39;49mpadding_idx,\n\u001b[1;32m    660\u001b[0m )\n\u001b[1;32m    661\u001b[0m \u001b[39mself\u001b[39m\u001b[39m.\u001b[39mlayers \u001b[39m=\u001b[39m nn\u001b[39m.\u001b[39mModuleList([PegasusEncoderLayer(config) \u001b[39mfor\u001b[39;00m _ \u001b[39min\u001b[39;00m \u001b[39mrange\u001b[39m(config\u001b[39m.\u001b[39mencoder_layers)])\n\u001b[1;32m    662\u001b[0m \u001b[39mself\u001b[39m\u001b[39m.\u001b[39mlayer_norm \u001b[39m=\u001b[39m nn\u001b[39m.\u001b[39mLayerNorm(config\u001b[39m.\u001b[39md_model)\n",
      "File \u001b[0;32m~/.local/lib/python3.8/site-packages/transformers/models/pegasus/modeling_pegasus.py:114\u001b[0m, in \u001b[0;36mPegasusSinusoidalPositionalEmbedding.__init__\u001b[0;34m(self, num_positions, embedding_dim, padding_idx)\u001b[0m\n\u001b[1;32m    112\u001b[0m \u001b[39mdef\u001b[39;00m \u001b[39m__init__\u001b[39m(\u001b[39mself\u001b[39m, num_positions: \u001b[39mint\u001b[39m, embedding_dim: \u001b[39mint\u001b[39m, padding_idx: Optional[\u001b[39mint\u001b[39m] \u001b[39m=\u001b[39m \u001b[39mNone\u001b[39;00m) \u001b[39m-\u001b[39m\u001b[39m>\u001b[39m \u001b[39mNone\u001b[39;00m:\n\u001b[1;32m    113\u001b[0m     \u001b[39msuper\u001b[39m()\u001b[39m.\u001b[39m\u001b[39m__init__\u001b[39m(num_positions, embedding_dim)\n\u001b[0;32m--> 114\u001b[0m     \u001b[39mself\u001b[39m\u001b[39m.\u001b[39mweight \u001b[39m=\u001b[39m \u001b[39mself\u001b[39;49m\u001b[39m.\u001b[39;49m_init_weight(\u001b[39mself\u001b[39;49m\u001b[39m.\u001b[39;49mweight)\n",
      "File \u001b[0;32m~/.local/lib/python3.8/site-packages/transformers/models/pegasus/modeling_pegasus.py:124\u001b[0m, in \u001b[0;36mPegasusSinusoidalPositionalEmbedding._init_weight\u001b[0;34m(out)\u001b[0m\n\u001b[1;32m    118\u001b[0m \u001b[39m\"\"\"\u001b[39;00m\n\u001b[1;32m    119\u001b[0m \u001b[39mIdentical to the XLM create_sinusoidal_embeddings except features are not interleaved. The cos features are in\u001b[39;00m\n\u001b[1;32m    120\u001b[0m \u001b[39mthe 2nd half of the vector. [dim // 2:]\u001b[39;00m\n\u001b[1;32m    121\u001b[0m \u001b[39m\"\"\"\u001b[39;00m\n\u001b[1;32m    122\u001b[0m n_pos, dim \u001b[39m=\u001b[39m out\u001b[39m.\u001b[39mshape\n\u001b[1;32m    123\u001b[0m position_enc \u001b[39m=\u001b[39m np\u001b[39m.\u001b[39marray(\n\u001b[0;32m--> 124\u001b[0m     [[pos \u001b[39m/\u001b[39m np\u001b[39m.\u001b[39mpower(\u001b[39m10000\u001b[39m, \u001b[39m2\u001b[39m \u001b[39m*\u001b[39m (j \u001b[39m/\u001b[39m\u001b[39m/\u001b[39m \u001b[39m2\u001b[39m) \u001b[39m/\u001b[39m dim) \u001b[39mfor\u001b[39;00m j \u001b[39min\u001b[39;00m \u001b[39mrange\u001b[39m(dim)] \u001b[39mfor\u001b[39;00m pos \u001b[39min\u001b[39;00m \u001b[39mrange\u001b[39m(n_pos)]\n\u001b[1;32m    125\u001b[0m )\n\u001b[1;32m    126\u001b[0m out\u001b[39m.\u001b[39mrequires_grad \u001b[39m=\u001b[39m \u001b[39mFalse\u001b[39;00m  \u001b[39m# set early to avoid an error in pytorch-1.8+\u001b[39;00m\n\u001b[1;32m    127\u001b[0m sentinel \u001b[39m=\u001b[39m dim \u001b[39m/\u001b[39m\u001b[39m/\u001b[39m \u001b[39m2\u001b[39m \u001b[39mif\u001b[39;00m dim \u001b[39m%\u001b[39m \u001b[39m2\u001b[39m \u001b[39m==\u001b[39m \u001b[39m0\u001b[39m \u001b[39melse\u001b[39;00m (dim \u001b[39m/\u001b[39m\u001b[39m/\u001b[39m \u001b[39m2\u001b[39m) \u001b[39m+\u001b[39m \u001b[39m1\u001b[39m\n",
      "File \u001b[0;32m~/.local/lib/python3.8/site-packages/transformers/models/pegasus/modeling_pegasus.py:124\u001b[0m, in \u001b[0;36m<listcomp>\u001b[0;34m(.0)\u001b[0m\n\u001b[1;32m    118\u001b[0m \u001b[39m\"\"\"\u001b[39;00m\n\u001b[1;32m    119\u001b[0m \u001b[39mIdentical to the XLM create_sinusoidal_embeddings except features are not interleaved. The cos features are in\u001b[39;00m\n\u001b[1;32m    120\u001b[0m \u001b[39mthe 2nd half of the vector. [dim // 2:]\u001b[39;00m\n\u001b[1;32m    121\u001b[0m \u001b[39m\"\"\"\u001b[39;00m\n\u001b[1;32m    122\u001b[0m n_pos, dim \u001b[39m=\u001b[39m out\u001b[39m.\u001b[39mshape\n\u001b[1;32m    123\u001b[0m position_enc \u001b[39m=\u001b[39m np\u001b[39m.\u001b[39marray(\n\u001b[0;32m--> 124\u001b[0m     [[pos \u001b[39m/\u001b[39m np\u001b[39m.\u001b[39mpower(\u001b[39m10000\u001b[39m, \u001b[39m2\u001b[39m \u001b[39m*\u001b[39m (j \u001b[39m/\u001b[39m\u001b[39m/\u001b[39m \u001b[39m2\u001b[39m) \u001b[39m/\u001b[39m dim) \u001b[39mfor\u001b[39;00m j \u001b[39min\u001b[39;00m \u001b[39mrange\u001b[39m(dim)] \u001b[39mfor\u001b[39;00m pos \u001b[39min\u001b[39;00m \u001b[39mrange\u001b[39m(n_pos)]\n\u001b[1;32m    125\u001b[0m )\n\u001b[1;32m    126\u001b[0m out\u001b[39m.\u001b[39mrequires_grad \u001b[39m=\u001b[39m \u001b[39mFalse\u001b[39;00m  \u001b[39m# set early to avoid an error in pytorch-1.8+\u001b[39;00m\n\u001b[1;32m    127\u001b[0m sentinel \u001b[39m=\u001b[39m dim \u001b[39m/\u001b[39m\u001b[39m/\u001b[39m \u001b[39m2\u001b[39m \u001b[39mif\u001b[39;00m dim \u001b[39m%\u001b[39m \u001b[39m2\u001b[39m \u001b[39m==\u001b[39m \u001b[39m0\u001b[39m \u001b[39melse\u001b[39;00m (dim \u001b[39m/\u001b[39m\u001b[39m/\u001b[39m \u001b[39m2\u001b[39m) \u001b[39m+\u001b[39m \u001b[39m1\u001b[39m\n",
      "File \u001b[0;32m~/.local/lib/python3.8/site-packages/transformers/models/pegasus/modeling_pegasus.py:124\u001b[0m, in \u001b[0;36m<listcomp>\u001b[0;34m(.0)\u001b[0m\n\u001b[1;32m    118\u001b[0m \u001b[39m\"\"\"\u001b[39;00m\n\u001b[1;32m    119\u001b[0m \u001b[39mIdentical to the XLM create_sinusoidal_embeddings except features are not interleaved. The cos features are in\u001b[39;00m\n\u001b[1;32m    120\u001b[0m \u001b[39mthe 2nd half of the vector. [dim // 2:]\u001b[39;00m\n\u001b[1;32m    121\u001b[0m \u001b[39m\"\"\"\u001b[39;00m\n\u001b[1;32m    122\u001b[0m n_pos, dim \u001b[39m=\u001b[39m out\u001b[39m.\u001b[39mshape\n\u001b[1;32m    123\u001b[0m position_enc \u001b[39m=\u001b[39m np\u001b[39m.\u001b[39marray(\n\u001b[0;32m--> 124\u001b[0m     [[pos \u001b[39m/\u001b[39m np\u001b[39m.\u001b[39;49mpower(\u001b[39m10000\u001b[39;49m, \u001b[39m2\u001b[39;49m \u001b[39m*\u001b[39;49m (j \u001b[39m/\u001b[39;49m\u001b[39m/\u001b[39;49m \u001b[39m2\u001b[39;49m) \u001b[39m/\u001b[39;49m dim) \u001b[39mfor\u001b[39;00m j \u001b[39min\u001b[39;00m \u001b[39mrange\u001b[39m(dim)] \u001b[39mfor\u001b[39;00m pos \u001b[39min\u001b[39;00m \u001b[39mrange\u001b[39m(n_pos)]\n\u001b[1;32m    125\u001b[0m )\n\u001b[1;32m    126\u001b[0m out\u001b[39m.\u001b[39mrequires_grad \u001b[39m=\u001b[39m \u001b[39mFalse\u001b[39;00m  \u001b[39m# set early to avoid an error in pytorch-1.8+\u001b[39;00m\n\u001b[1;32m    127\u001b[0m sentinel \u001b[39m=\u001b[39m dim \u001b[39m/\u001b[39m\u001b[39m/\u001b[39m \u001b[39m2\u001b[39m \u001b[39mif\u001b[39;00m dim \u001b[39m%\u001b[39m \u001b[39m2\u001b[39m \u001b[39m==\u001b[39m \u001b[39m0\u001b[39m \u001b[39melse\u001b[39;00m (dim \u001b[39m/\u001b[39m\u001b[39m/\u001b[39m \u001b[39m2\u001b[39m) \u001b[39m+\u001b[39m \u001b[39m1\u001b[39m\n",
      "\u001b[0;31mKeyboardInterrupt\u001b[0m: "
     ]
    }
   ],
   "source": [
    "# from transformers import \n",
    "from transformers import PegasusForConditionalGeneration,PegasusTokenizer\n",
    "tokenizer = PegasusTokenizer.from_pretrained(\"google/pegasus-xsum\")\n",
    "\n",
    "base_model = PegasusForConditionalGeneration.from_pretrained(\"google/pegasus-xsum\")"
   ]
  },
  {
   "cell_type": "code",
   "execution_count": null,
   "metadata": {},
   "outputs": [],
   "source": [
    "from dataset import *\n",
    "num_samples=204045\n",
    "val_dataset = Dataset(\"val\", tokenizer,xsum_dataset[\"train\"][\"document\"][0:] , xsum_dataset[\"train\"][\"summary\"][0:])\n"
   ]
  },
  {
   "cell_type": "code",
   "execution_count": null,
   "metadata": {},
   "outputs": [],
   "source": [
    "val_loader = torch.utils.data.DataLoader(val_dataset, batch_size = 10, shuffle = False)\n",
    "device = torch.device(\"cpu\")\n",
    "if torch.cuda.is_available():\n",
    "    device = torch.device(\"cuda\")\n",
    "model = base_model.to(device)\n",
    "\n"
   ]
  },
  {
   "cell_type": "code",
   "execution_count": null,
   "metadata": {},
   "outputs": [],
   "source": [
    "from tqdm import tqdm\n",
    "import gc\n",
    "import pandas as pd\n",
    "import pickle\n",
    "\n",
    "\n",
    "\n",
    "def beam_search_step(batch, tokenizer, base_model, device):\n",
    "    # 1 - beam search\n",
    "    if True:\n",
    "        summary_ids = base_model.generate(\n",
    "            batch[\"text_inputs\"]['input_ids'],\n",
    "            attention_mask = batch[\"text_inputs\"][\"attention_mask\"],\n",
    "            num_beams = 5,\n",
    "            num_return_sequences = 5,\n",
    "            max_length = 64\n",
    "        )\n",
    "\n",
    "    generated = tokenizer.batch_decode(summary_ids, skip_special_tokens=True, clean_up_tokenization_spaces=True)\n",
    "\n",
    "    del summary_ids\n",
    "    gc.collect()\n",
    "\n",
    "    return generated\n",
    "\n",
    "\n",
    "def get_summaries(tokenizer, val_loader, base_model, device):\n",
    "    val_texts = []\n",
    "    val_summaries = []\n",
    "    val_labels = []\n",
    "\n",
    "    for idx, batch in tqdm(enumerate(val_loader)):\n",
    "        for k in batch[\"text_inputs\"].keys():\n",
    "            batch[\"text_inputs\"][k] = batch[\"text_inputs\"][k].to(device)\n",
    "            if len(batch[\"text_inputs\"][k].shape) > 2:\n",
    "                batch[\"text_inputs\"][k] = batch[\"text_inputs\"][k].squeeze(1)\n",
    "\n",
    "        model.zero_grad()\n",
    "        val_texts += batch[\"text\"]\n",
    "\n",
    "        raw_summaries = beam_search_step(batch, tokenizer, base_model, device)\n",
    "        \n",
    "        summaries = []\n",
    "        for i in range(len(batch[\"text\"])):\n",
    "            summaries.append(\"|\".join(raw_summaries[i*5:(i+1)*5]))\n",
    "\n",
    "        val_summaries += summaries\n",
    "\n",
    "        labels = batch[\"summary\"]\n",
    "        val_labels += labels\n",
    "        df = pd.DataFrame({\"text\": batch[\"text\"],\"summaries\":summaries,\"labels\":labels})\n",
    "        df.to_csv(\"candidates_1.csv\",mode='a',index=False,header=False)\n",
    "\n",
    "        # with open(f\"candidates_txt\", 'a+b') as fp:\n",
    "        #     pickle.dump(val_texts,fp)\n",
    "        # with open(f\"candidates_summary\", 'a+b') as fp:\n",
    "        #     pickle.dump(val_summaries,fp)\n",
    "        # with open(f\"candidates_label\", 'a+b') as fp:\n",
    "        #     pickle.dump(val_labels,fp)\n",
    "\n",
    "    # print(len(val_texts), len(val_summaries), len(val_summaries[0]), len(val_labels))\n",
    "\n",
    "    # return val_texts, val_summaries, val_labels"
   ]
  },
  {
   "cell_type": "code",
   "execution_count": null,
   "metadata": {},
   "outputs": [
    {
     "name": "stderr",
     "output_type": "stream",
     "text": [
      "165it [02:51,  1.03it/s]"
     ]
    }
   ],
   "source": [
    "get_summaries(tokenizer, val_loader, model, device)\n"
   ]
  },
  {
   "cell_type": "code",
   "execution_count": null,
   "metadata": {},
   "outputs": [
    {
     "ename": "NameError",
     "evalue": "name 'val_summaries' is not defined",
     "output_type": "error",
     "traceback": [
      "\u001b[0;31m---------------------------------------------------------------------------\u001b[0m",
      "\u001b[0;31mNameError\u001b[0m                                 Traceback (most recent call last)",
      "\u001b[1;32m/home/vv2116/1006/cds-bootcamp/homework/nlp/NLP_Final/SummaReranker/src/candidate_generation/candidate_vv.ipynb Cell 10\u001b[0m in \u001b[0;36m<cell line: 1>\u001b[0;34m()\u001b[0m\n\u001b[0;32m----> <a href='vscode-notebook-cell://ssh-remote%2Bburstcontainer/home/vv2116/1006/cds-bootcamp/homework/nlp/NLP_Final/SummaReranker/src/candidate_generation/candidate_vv.ipynb#X12sdnNjb2RlLXJlbW90ZQ%3D%3D?line=0'>1</a>\u001b[0m base_results \u001b[39m=\u001b[39m [val_summaries[i][\u001b[39m0\u001b[39m] \u001b[39mfor\u001b[39;00m i \u001b[39min\u001b[39;00m \u001b[39mrange\u001b[39m(\u001b[39mlen\u001b[39m(val_summaries))]\n\u001b[1;32m      <a href='vscode-notebook-cell://ssh-remote%2Bburstcontainer/home/vv2116/1006/cds-bootcamp/homework/nlp/NLP_Final/SummaReranker/src/candidate_generation/candidate_vv.ipynb#X12sdnNjb2RlLXJlbW90ZQ%3D%3D?line=1'>2</a>\u001b[0m \u001b[39mprint\u001b[39m(\u001b[39m\"\u001b[39m\u001b[39m*\u001b[39m\u001b[39m\"\u001b[39m\u001b[39m*\u001b[39m\u001b[39m100\u001b[39m)\n\u001b[1;32m      <a href='vscode-notebook-cell://ssh-remote%2Bburstcontainer/home/vv2116/1006/cds-bootcamp/homework/nlp/NLP_Final/SummaReranker/src/candidate_generation/candidate_vv.ipynb#X12sdnNjb2RlLXJlbW90ZQ%3D%3D?line=2'>3</a>\u001b[0m \u001b[39mprint\u001b[39m(\u001b[39m\"\u001b[39m\u001b[39m\\n\u001b[39;00m\u001b[39mTop beam:\u001b[39m\u001b[39m\"\u001b[39m)\n",
      "\u001b[0;31mNameError\u001b[0m: name 'val_summaries' is not defined"
     ]
    }
   ],
   "source": [
    "\n",
    "\n",
    "# base_results = [val_summaries[i][0] for i in range(len(val_summaries))]\n",
    "# print(\"*\"*100)\n",
    "# print(\"\\nTop beam:\")\n",
    "\n",
    "# r1, r2, rl = rouge_eval(\"true labels\", val_texts, base_results, val_labels)"
   ]
  },
  {
   "cell_type": "code",
   "execution_count": null,
   "metadata": {},
   "outputs": [],
   "source": [
    "# # pip install torchmetrics\n",
    "# from torchmetrics.text.rouge import ROUGEScore\n",
    "# from nltk.tokenize import sent_tokenize\n",
    "# import numpy as np\n",
    "\n",
    "\n",
    "# def pre_rouge_processing(summary):\n",
    "\n",
    "#     summary = summary.replace(\"<n>\", \" \")    \n",
    "#     summary = \"\\n\".join(sent_tokenize(summary))\n",
    "    \n",
    "#     return summary\n",
    "# def rouge_eval(mode, val_texts, val_summaries, val_labels):\n",
    "#     print(\"\\n\", \"*\"*10, \"1 - ROUGE evaluation with {}\".format(mode), \"*\"*10)\n",
    "#     scorer = ROUGEScore()\n",
    "#     all_r1s = []\n",
    "#     all_r2s = []\n",
    "#     all_rls = []\n",
    "#     for i in range(len(val_summaries)):\n",
    "#         summary = val_summaries[i]\n",
    "#         summary = pre_rouge_processing(summary)\n",
    "#         label = val_labels[i]\n",
    "#         rscores = scorer(summary, label)\n",
    "#         all_r1s.append(rscores[\"rouge1_fmeasure\"])\n",
    "#         all_r2s.append(rscores[\"rouge2_fmeasure\"])\n",
    "#         all_rls.append(rscores[\"rougeL_fmeasure\"])\n",
    "#     all_r1s = 100 * np.array(all_r1s)\n",
    "#     all_r2s = 100 * np.array(all_r2s)\n",
    "#     all_rls = 100 * np.array(all_rls)\n",
    "#     mean_r1 = np.mean(all_r1s)\n",
    "#     mean_r2 = np.mean(all_r2s)\n",
    "#     mean_rl = np.mean(all_rls)\n",
    "#     mean_r = (mean_r1 + mean_r2 + mean_rl) / 3\n",
    "#     print(\"Mean R: {:.4f}, R-1: {:.4f} (var: {:.4f}), R-2: {:.4f} (var: {:.4f}), R-L: {:.4f} (var: {:.4f})\".format(\n",
    "#         mean_r, mean_r1, np.std(all_r1s), mean_r2, np.std(all_r2s), mean_rl, np.std(all_rls)))\n",
    "\n",
    "#     return all_r1s, all_r2s, all_rls"
   ]
  },
  {
   "cell_type": "code",
   "execution_count": null,
   "metadata": {},
   "outputs": [],
   "source": [
    "\n",
    "\n"
   ]
  },
  {
   "cell_type": "code",
   "execution_count": null,
   "metadata": {},
   "outputs": [
    {
     "data": {
      "text/html": [
       "<div>\n",
       "<style scoped>\n",
       "    .dataframe tbody tr th:only-of-type {\n",
       "        vertical-align: middle;\n",
       "    }\n",
       "\n",
       "    .dataframe tbody tr th {\n",
       "        vertical-align: top;\n",
       "    }\n",
       "\n",
       "    .dataframe thead th {\n",
       "        text-align: right;\n",
       "    }\n",
       "</style>\n",
       "<table border=\"1\" class=\"dataframe\">\n",
       "  <thead>\n",
       "    <tr style=\"text-align: right;\">\n",
       "      <th></th>\n",
       "      <th>0</th>\n",
       "      <th>1</th>\n",
       "      <th>2</th>\n",
       "    </tr>\n",
       "  </thead>\n",
       "  <tbody>\n",
       "    <tr>\n",
       "      <th>0</th>\n",
       "      <td>The full cost of damage in Newton Stewart, one...</td>\n",
       "      <td>The clean-up operation is continuing in parts ...</td>\n",
       "      <td>Clean-up operations are continuing across the ...</td>\n",
       "    </tr>\n",
       "    <tr>\n",
       "      <th>1</th>\n",
       "      <td>A fire alarm went off at the Holiday Inn in Ho...</td>\n",
       "      <td>Two tourist buses have been destroyed in a sus...</td>\n",
       "      <td>Two tourist buses have been destroyed by fire ...</td>\n",
       "    </tr>\n",
       "    <tr>\n",
       "      <th>2</th>\n",
       "      <td>Ferrari appeared in a position to challenge un...</td>\n",
       "      <td>Lewis Hamilton beat Mercedes team-mate Nico Ro...</td>\n",
       "      <td>Lewis Hamilton stormed to pole position at the...</td>\n",
       "    </tr>\n",
       "    <tr>\n",
       "      <th>3</th>\n",
       "      <td>John Edward Bates, formerly of Spalding, Linco...</td>\n",
       "      <td>A former Lincolnshire Police officer has gone ...</td>\n",
       "      <td>A former Lincolnshire Police officer carried o...</td>\n",
       "    </tr>\n",
       "    <tr>\n",
       "      <th>4</th>\n",
       "      <td>Patients and staff were evacuated from Cerahpa...</td>\n",
       "      <td>Turkish police have ended a siege at a psychia...</td>\n",
       "      <td>An armed man who locked himself into a room at...</td>\n",
       "    </tr>\n",
       "  </tbody>\n",
       "</table>\n",
       "</div>"
      ],
      "text/plain": [
       "                                                   0  \\\n",
       "0  The full cost of damage in Newton Stewart, one...   \n",
       "1  A fire alarm went off at the Holiday Inn in Ho...   \n",
       "2  Ferrari appeared in a position to challenge un...   \n",
       "3  John Edward Bates, formerly of Spalding, Linco...   \n",
       "4  Patients and staff were evacuated from Cerahpa...   \n",
       "\n",
       "                                                   1  \\\n",
       "0  The clean-up operation is continuing in parts ...   \n",
       "1  Two tourist buses have been destroyed in a sus...   \n",
       "2  Lewis Hamilton beat Mercedes team-mate Nico Ro...   \n",
       "3  A former Lincolnshire Police officer has gone ...   \n",
       "4  Turkish police have ended a siege at a psychia...   \n",
       "\n",
       "                                                   2  \n",
       "0  Clean-up operations are continuing across the ...  \n",
       "1  Two tourist buses have been destroyed by fire ...  \n",
       "2  Lewis Hamilton stormed to pole position at the...  \n",
       "3  A former Lincolnshire Police officer carried o...  \n",
       "4  An armed man who locked himself into a room at...  "
      ]
     },
     "execution_count": 25,
     "metadata": {},
     "output_type": "execute_result"
    }
   ],
   "source": [
    "# import pandas as pd\n",
    "# df = pd.read_csv(\"candidates_1.csv\",header=None)\n",
    "# df.head()"
   ]
  },
  {
   "cell_type": "code",
   "execution_count": null,
   "metadata": {},
   "outputs": [
    {
     "data": {
      "text/plain": [
       "('The full cost of damage in Newton Stewart, one of the areas worst affected, is still being assessed.\\nRepair work is ongoing in Hawick and many roads in Peeblesshire remain badly affected by standing water.\\nTrains on the west coast mainline face disruption due to damage at the Lamington Viaduct.\\nMany businesses and householders were affected by flooding in Newton Stewart after the River Cree overflowed into the town.\\nFirst Minister Nicola Sturgeon visited the area to inspect the damage.\\nThe waters breached a retaining wall, flooding many commercial properties on Victoria Street - the main shopping thoroughfare.\\nJeanette Tate, who owns the Cinnamon Cafe which was badly affected, said she could not fault the multi-agency response once the flood hit.\\nHowever, she said more preventative work could have been carried out to ensure the retaining wall did not fail.\\n\"It is difficult but I do think there is so much publicity for Dumfries and the Nith - and I totally appreciate that - but it is almost like we\\'re neglected or forgotten,\" she said.\\n\"That may not be true but it is perhaps my perspective over the last few days.\\n\"Why were you not ready to help us a bit more when the warning and the alarm alerts had gone out?\"\\nMeanwhile, a flood alert remains in place across the Borders because of the constant rain.\\nPeebles was badly hit by problems, sparking calls to introduce more defences in the area.\\nScottish Borders Council has put a list on its website of the roads worst affected and drivers have been urged not to ignore closure signs.\\nThe Labour Party\\'s deputy Scottish leader Alex Rowley was in Hawick on Monday to see the situation first hand.\\nHe said it was important to get the flood protection plan right but backed calls to speed up the process.\\n\"I was quite taken aback by the amount of damage that has been done,\" he said.\\n\"Obviously it is heart-breaking for people who have been forced out of their homes and the impact on businesses.\"\\nHe said it was important that \"immediate steps\" were taken to protect the areas most vulnerable and a clear timetable put in place for flood prevention plans.\\nHave you been affected by flooding in Dumfries and Galloway or the Borders? Tell us about your experience of the situation and how it was handled. Email us on selkirk.news@bbc.co.uk or dumfries@bbc.co.uk.',)"
      ]
     },
     "execution_count": 28,
     "metadata": {},
     "output_type": "execute_result"
    }
   ],
   "source": []
  },
  {
   "cell_type": "code",
   "execution_count": null,
   "metadata": {},
   "outputs": [],
   "source": []
  },
  {
   "cell_type": "code",
   "execution_count": null,
   "metadata": {},
   "outputs": [],
   "source": []
  },
  {
   "cell_type": "code",
   "execution_count": null,
   "metadata": {},
   "outputs": [],
   "source": []
  }
 ],
 "metadata": {
  "kernelspec": {
   "display_name": "Python 3.8.13 ('base')",
   "language": "python",
   "name": "python3"
  },
  "language_info": {
   "codemirror_mode": {
    "name": "ipython",
    "version": 3
   },
   "file_extension": ".py",
   "mimetype": "text/x-python",
   "name": "python",
   "nbconvert_exporter": "python",
   "pygments_lexer": "ipython3",
   "version": "3.8.13"
  },
  "orig_nbformat": 4,
  "vscode": {
   "interpreter": {
    "hash": "d4d1e4263499bec80672ea0156c357c1ee493ec2b1c70f0acce89fc37c4a6abe"
   }
  }
 },
 "nbformat": 4,
 "nbformat_minor": 2
}
